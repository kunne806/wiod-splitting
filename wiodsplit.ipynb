{
 "cells": [
  {
   "cell_type": "code",
   "execution_count": 1,
   "metadata": {},
   "outputs": [],
   "source": [
    "# author:kune806\n",
    "# date:2018/12/5\n",
    "\n",
    "\n",
    "import pandas as pd\n",
    "import numpy as np\n",
    "import os\n",
    "\n",
    "\n",
    "filepath = \"WIOT2014_Nov16_ROW.csv\"\n",
    "temporyurl = \"rh12051226.csv\"  # 仅作为数据变量类型的重新识别，无它用，不用更改\n",
    "_spcountry = \"CHN\"  # 分析的国家，国家三位码，大写，简写。确保在投入产出表中存在"
   ]
  },
  {
   "cell_type": "code",
   "execution_count": 2,
   "metadata": {},
   "outputs": [],
   "source": [
    "initialdb = pd.read_csv(filepath, encoding='gb18030', low_memory=False)"
   ]
  },
  {
   "cell_type": "code",
   "execution_count": 3,
   "metadata": {},
   "outputs": [],
   "source": [
    "# rename columns of the initial IO table\n",
    "initialdb = initialdb.iloc[1:,:]\n",
    "country = initialdb.iloc[2, :].values\n",
    "industry = initialdb.iloc[0, :].values\n",
    "colname = [\"\".join([str(corei), \"_\", str(corej)]) for corei, corej in zip(country, industry)]\n",
    "keys = initialdb.keys()\n",
    "recolumns = dict()\n",
    "for dici, dicj in zip(keys[4:], colname[4:]):\n",
    "    recolumns[dici] = dicj\n",
    "initialdb = initialdb.rename(columns=recolumns)"
   ]
  },
  {
   "cell_type": "code",
   "execution_count": 4,
   "metadata": {},
   "outputs": [],
   "source": [
    "initialdb.keys()\n",
    "initialdb = initialdb.iloc[4:, :]\n",
    "fname = initialdb.rename(columns={\"Intercountry Input-Output Table\": \"indcode\", \"Unnamed: 1\": \"des\", \"Unnamed: 2\": \"country\",\n",
    "                                     \"Unnamed: 3\": \"order\"})\n",
    "fname.to_csv(temporyurl, encoding='gb18030', index=False)\n",
    "fname = pd.read_csv(temporyurl, encoding='gb18030', low_memory=False)\n",
    "os.remove(temporyurl)"
   ]
  },
  {
   "cell_type": "code",
   "execution_count": 5,
   "metadata": {},
   "outputs": [],
   "source": [
    "# 中间投入产出矩阵, 行向\n",
    "imi = fname[fname.country != 'TOT']\n",
    "\n",
    "# 剩余数据表，行向\n",
    "imi_res = fname[fname.country == 'TOT']\n",
    "\n",
    "# 国家集合lcountry, 产品集合lproduct\n",
    "lcountry = set(fname[\"country\"].values) - set({\"TOT\"})\n",
    "lproduct = set(imi[\"indcode\"].values)\n",
    "\n",
    "# 关注的国家和产品\n",
    "spcountry = {_spcountry}\n",
    "att_ind = ['A01', 'A02', 'A03', 'C10-C12', 'C13-C15', 'C16', 'C17', 'C31_C32']\n",
    "\n",
    "# 无关国家和产品\n",
    "rescountry = lcountry - spcountry\n",
    "resproduct = lproduct - set(att_ind)\n",
    "\n",
    "# 最终消费\n",
    "finald = [\"CONS_h\", \"CONS_np\", \"CONS_g\", \"GFCF\", \"INVEN\"]"
   ]
  },
  {
   "cell_type": "code",
   "execution_count": 6,
   "metadata": {},
   "outputs": [],
   "source": [
    "# special a country and special industry range, row combine\n",
    "def rowind(analrow, attrind, countryvar):\n",
    "    \"\"\"\n",
    "    analyrow is database, attrind is vector of key industry, countryvar is file name\n",
    "    function: extract, merge \n",
    "    \"\"\"\n",
    "    logical_l = [stri in attrind for stri in analrow[\"indcode\"].values]\n",
    "    logical_f = [not(stri in attrind) for stri in analrow[\"indcode\"].values]\n",
    "    rowdb = analrow[logical_l]\n",
    "    \n",
    "    rowdb_res = analrow[logical_f]\n",
    "    sumdb = np.float_(rowdb_res.iloc[:, 4:].values)\n",
    "    sumr = np.array(np.sum(sumdb, axis=0))\n",
    "    frontstr = np.array([\"resind\", \"other\", countryvar, \"other\"])\n",
    "    sumrc = np.r_[\"0,1\", frontstr, sumr]\n",
    "    sumrcdf = pd.DataFrame(np.array([sumrc]), columns=list(analrow.keys()))\n",
    "    return pd.concat([rowdb, sumrcdf])\n",
    "\n",
    "\n",
    "# residual country \n",
    "def resrow(analrow, attrind):\n",
    "    logical_l = [stri in attrind for stri in analrow[\"indcode\"].values]  # eatrct special industries\n",
    "    logical_f = [not(stri in attrind) for stri in analrow[\"indcode\"].values]   # residual industries\n",
    "    analrow.loc[:, \"country\"] = [\"resc\"] * analrow.shape[0]\n",
    "    analrow.loc[:, \"order\"] = [1] * analrow.shape[0]\n",
    "    \n",
    "    resdbf = analrow[logical_f]\n",
    "    spedbt = analrow[logical_l]\n",
    "    \n",
    "    resdbf.loc[:, \"indcode\"] = [\"resind\"] * resdbf.shape[0]\n",
    "    resdbf.loc[:, \"des\"] = [\"other industries\"] * resdbf.shape[0]\n",
    "    \n",
    "    anal_combine = pd.concat([resdbf, spedbt], sort=False)\n",
    "    \n",
    "    anal_group = anal_combine.groupby(by=[\"indcode\", \"des\", \"country\", \"order\"]).sum()\n",
    "    anal_reset = anal_group.reset_index()\n",
    "    \n",
    "    return anal_reset\n",
    "\n",
    "\n",
    "# 无关产业合并函数,列合并\n",
    "def colcombine(analydb, countrylist, productlist, varname):\n",
    "    columns = [\"\".join([countryi, \"_\", producti]) for countryi in countrylist for producti in productlist]\n",
    "    analydb_sub = analydb.reindex(columns=columns)\n",
    "    sum_temp = np.sum(np.float_(analydb_sub.values), axis=1)\n",
    "    return pd.DataFrame(sum_temp, columns=[varname])\n",
    "\n",
    "\n",
    "# 关注产业合并函数，列合并\n",
    "def colcombine_c(analydb, countrylist, productlist, varname):\n",
    "    result_list = list()\n",
    "    for elementp in productlist:\n",
    "        columns = [\"\".join([countryi, \"_\", elementp]) for countryi in countrylist]\n",
    "        analydb_sub = analydb.reindex(columns=columns)\n",
    "        sum_temp = np.sum(np.float_(analydb_sub.values), axis=1)\n",
    "        eledf = pd.DataFrame(sum_temp, columns=[\"\".join([varname, \"_\", elementp])])\n",
    "        \n",
    "        result_list.append(eledf)\n",
    "    return pd.concat(result_list, axis=1, sort=True)"
   ]
  },
  {
   "cell_type": "code",
   "execution_count": 7,
   "metadata": {},
   "outputs": [
    {
     "name": "stderr",
     "output_type": "stream",
     "text": [
      "d:\\pythonins\\lib\\site-packages\\pandas\\core\\indexing.py:543: SettingWithCopyWarning: \n",
      "A value is trying to be set on a copy of a slice from a DataFrame.\n",
      "Try using .loc[row_indexer,col_indexer] = value instead\n",
      "\n",
      "See the caveats in the documentation: http://pandas.pydata.org/pandas-docs/stable/indexing.html#indexing-view-versus-copy\n",
      "  self.obj[item] = s\n"
     ]
    }
   ],
   "source": [
    "chn = rowind(imi[imi.country == _spcountry], att_ind, _spcountry)\n",
    "resc = resrow(imi[imi.country != _spcountry], att_ind)"
   ]
  },
  {
   "cell_type": "code",
   "execution_count": 8,
   "metadata": {},
   "outputs": [],
   "source": [
    "row_final = pd.concat([chn, resc, imi_res], sort=True)"
   ]
  },
  {
   "cell_type": "code",
   "execution_count": 9,
   "metadata": {},
   "outputs": [],
   "source": [
    "CHN_col = colcombine(row_final, [_spcountry], resproduct, \"%s_resind\" % _spcountry)\n",
    "rescp_col = colcombine(row_final, rescountry, resproduct, \"resc_resind\")"
   ]
  },
  {
   "cell_type": "code",
   "execution_count": 10,
   "metadata": {},
   "outputs": [],
   "source": [
    "resc_ap_col = colcombine_c(row_final, rescountry, att_ind, \"resc\")\n",
    "CHN_c_col = colcombine_c(row_final, [_spcountry], att_ind, _spcountry)\n",
    "\n",
    "CHN_f = colcombine(row_final, [_spcountry], finald, \"%s_demand\" % _spcountry)\n",
    "rescp_f = colcombine(row_final, rescountry, finald, \"resc_demand\")"
   ]
  },
  {
   "cell_type": "code",
   "execution_count": 11,
   "metadata": {},
   "outputs": [],
   "source": [
    "namedb = row_final.reindex(columns=[\"indcode\", \"des\", \"country\", \"order\"])\n",
    "namedb.index = range(namedb.shape[0])\n",
    "outdb = row_final.reindex(columns=[\"TOT_GO\"])\n",
    "outdb.index = range(outdb.shape[0])\n",
    "finalresult = pd.concat([namedb, CHN_c_col, CHN_col, resc_ap_col, rescp_col, CHN_f, rescp_f, outdb], axis=1, sort=True)\n",
    "finalresult.to_csv(\"rh12051431.csv\", encoding='gb18030', index=False)"
   ]
  }
 ],
 "metadata": {
  "kernelspec": {
   "display_name": "Python 3",
   "language": "python",
   "name": "python3"
  },
  "language_info": {
   "codemirror_mode": {
    "name": "ipython",
    "version": 3
   },
   "file_extension": ".py",
   "mimetype": "text/x-python",
   "name": "python",
   "nbconvert_exporter": "python",
   "pygments_lexer": "ipython3",
   "version": "3.7.0"
  }
 },
 "nbformat": 4,
 "nbformat_minor": 2
}
